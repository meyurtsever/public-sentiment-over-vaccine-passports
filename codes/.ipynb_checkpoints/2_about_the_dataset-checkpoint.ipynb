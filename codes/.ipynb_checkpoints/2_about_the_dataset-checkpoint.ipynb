{
 "cells": [
  {
   "cell_type": "code",
   "execution_count": 1,
   "metadata": {},
   "outputs": [],
   "source": [
    "import pandas as pd\n",
    "import re\n",
    "import os\n",
    "import matplotlib.pyplot as plt\n",
    "from IPython.display import display, HTML"
   ]
  },
  {
   "cell_type": "code",
   "execution_count": 2,
   "metadata": {},
   "outputs": [],
   "source": [
    "df = pd.read_csv('../dataset/preprocessed_all_countries_combined_comments.csv')"
   ]
  },
  {
   "cell_type": "code",
   "execution_count": 3,
   "metadata": {},
   "outputs": [
    {
     "data": {
      "text/html": [
       "<div>\n",
       "<style scoped>\n",
       "    .dataframe tbody tr th:only-of-type {\n",
       "        vertical-align: middle;\n",
       "    }\n",
       "\n",
       "    .dataframe tbody tr th {\n",
       "        vertical-align: top;\n",
       "    }\n",
       "\n",
       "    .dataframe thead th {\n",
       "        text-align: right;\n",
       "    }\n",
       "</style>\n",
       "<table border=\"1\" class=\"dataframe\">\n",
       "  <thead>\n",
       "    <tr style=\"text-align: right;\">\n",
       "      <th></th>\n",
       "      <th>Unnamed: 0</th>\n",
       "      <th>created_utc</th>\n",
       "      <th>date</th>\n",
       "      <th>body</th>\n",
       "      <th>subreddit</th>\n",
       "      <th>income_group</th>\n",
       "      <th>permalink</th>\n",
       "      <th>subjectivity</th>\n",
       "      <th>polarity</th>\n",
       "      <th>label</th>\n",
       "      <th>total_cases</th>\n",
       "      <th>new_cases</th>\n",
       "    </tr>\n",
       "  </thead>\n",
       "  <tbody>\n",
       "    <tr>\n",
       "      <th>0</th>\n",
       "      <td>0</td>\n",
       "      <td>1.643123e+09</td>\n",
       "      <td>2022-01-25</td>\n",
       "      <td>fair I think home citizenship relevant visa tr...</td>\n",
       "      <td>australia</td>\n",
       "      <td>upper</td>\n",
       "      <td>/r/australia/comments/sccs51/visitor_informati...</td>\n",
       "      <td>0.480000</td>\n",
       "      <td>0.360000</td>\n",
       "      <td>positive</td>\n",
       "      <td>2340046.0</td>\n",
       "      <td>52920.0</td>\n",
       "    </tr>\n",
       "    <tr>\n",
       "      <th>1</th>\n",
       "      <td>1</td>\n",
       "      <td>1.642923e+09</td>\n",
       "      <td>2022-01-23</td>\n",
       "      <td>I shave business day agree pick directly passp...</td>\n",
       "      <td>australia</td>\n",
       "      <td>upper</td>\n",
       "      <td>/r/australia/comments/sao21y/how_long_does_it_...</td>\n",
       "      <td>0.575000</td>\n",
       "      <td>0.200000</td>\n",
       "      <td>positive</td>\n",
       "      <td>2229104.0</td>\n",
       "      <td>32234.0</td>\n",
       "    </tr>\n",
       "    <tr>\n",
       "      <th>2</th>\n",
       "      <td>2</td>\n",
       "      <td>1.642822e+09</td>\n",
       "      <td>2022-01-22</td>\n",
       "      <td>usual mask covid passport event size limit bun...</td>\n",
       "      <td>australia</td>\n",
       "      <td>upper</td>\n",
       "      <td>/r/australia/comments/s9n0mw/who_wants_to_get_...</td>\n",
       "      <td>0.250000</td>\n",
       "      <td>-0.250000</td>\n",
       "      <td>negative</td>\n",
       "      <td>2196870.0</td>\n",
       "      <td>67182.0</td>\n",
       "    </tr>\n",
       "    <tr>\n",
       "      <th>3</th>\n",
       "      <td>3</td>\n",
       "      <td>1.642143e+09</td>\n",
       "      <td>2022-01-14</td>\n",
       "      <td>nz citizen live aus fly plenty fly nz passport...</td>\n",
       "      <td>australia</td>\n",
       "      <td>upper</td>\n",
       "      <td>/r/australia/comments/s3h17y/travelling_to_aus...</td>\n",
       "      <td>0.797222</td>\n",
       "      <td>0.559091</td>\n",
       "      <td>positive</td>\n",
       "      <td>1613249.0</td>\n",
       "      <td>86288.0</td>\n",
       "    </tr>\n",
       "    <tr>\n",
       "      <th>4</th>\n",
       "      <td>4</td>\n",
       "      <td>1.642146e+09</td>\n",
       "      <td>2022-01-14</td>\n",
       "      <td>need person consent record blur face man trave...</td>\n",
       "      <td>australia</td>\n",
       "      <td>upper</td>\n",
       "      <td>/r/australia/comments/s3lz4w/djokovic_visa_can...</td>\n",
       "      <td>0.000000</td>\n",
       "      <td>0.000000</td>\n",
       "      <td>neutral</td>\n",
       "      <td>1613249.0</td>\n",
       "      <td>86288.0</td>\n",
       "    </tr>\n",
       "  </tbody>\n",
       "</table>\n",
       "</div>"
      ],
      "text/plain": [
       "   Unnamed: 0   created_utc        date  \\\n",
       "0           0  1.643123e+09  2022-01-25   \n",
       "1           1  1.642923e+09  2022-01-23   \n",
       "2           2  1.642822e+09  2022-01-22   \n",
       "3           3  1.642143e+09  2022-01-14   \n",
       "4           4  1.642146e+09  2022-01-14   \n",
       "\n",
       "                                                body  subreddit income_group  \\\n",
       "0  fair I think home citizenship relevant visa tr...  australia        upper   \n",
       "1  I shave business day agree pick directly passp...  australia        upper   \n",
       "2  usual mask covid passport event size limit bun...  australia        upper   \n",
       "3  nz citizen live aus fly plenty fly nz passport...  australia        upper   \n",
       "4  need person consent record blur face man trave...  australia        upper   \n",
       "\n",
       "                                           permalink  subjectivity  polarity  \\\n",
       "0  /r/australia/comments/sccs51/visitor_informati...      0.480000  0.360000   \n",
       "1  /r/australia/comments/sao21y/how_long_does_it_...      0.575000  0.200000   \n",
       "2  /r/australia/comments/s9n0mw/who_wants_to_get_...      0.250000 -0.250000   \n",
       "3  /r/australia/comments/s3h17y/travelling_to_aus...      0.797222  0.559091   \n",
       "4  /r/australia/comments/s3lz4w/djokovic_visa_can...      0.000000  0.000000   \n",
       "\n",
       "      label  total_cases  new_cases  \n",
       "0  positive    2340046.0    52920.0  \n",
       "1  positive    2229104.0    32234.0  \n",
       "2  negative    2196870.0    67182.0  \n",
       "3  positive    1613249.0    86288.0  \n",
       "4   neutral    1613249.0    86288.0  "
      ]
     },
     "execution_count": 3,
     "metadata": {},
     "output_type": "execute_result"
    }
   ],
   "source": [
    "df.head()"
   ]
  },
  {
   "cell_type": "markdown",
   "metadata": {},
   "source": [
    "### 0. Comments have crawled from Reddit\n",
    ">three keywords: *vaccine passport*, *covid passport*, *vaccine certificate*<br><br>\n",
    "**Every country has 4 CSV files**\n",
    ">>3 seperate files for containing keyword.<br>\n",
    "1 file to combine them all.<br>\n",
    "\n",
    ">Additionally, every country grouped in their income group<br>\n"
   ]
  },
  {
   "cell_type": "markdown",
   "metadata": {},
   "source": [
    "### 1. The dataset groups countries into 3 categories\n",
    ">There are 3 groups for the countries in the dataset.<br>\n",
    "Upper-income<br>\n",
    "Upper-middle-income<br>\n",
    "Lower-middle-income<br>"
   ]
  },
  {
   "cell_type": "code",
   "execution_count": 4,
   "metadata": {},
   "outputs": [
    {
     "data": {
      "text/plain": [
       "array(['upper', 'upper_middle', 'lower_middle'], dtype=object)"
      ]
     },
     "execution_count": 4,
     "metadata": {},
     "output_type": "execute_result"
    }
   ],
   "source": [
    "df.income_group.unique()"
   ]
  },
  {
   "cell_type": "markdown",
   "metadata": {},
   "source": [
    "### 2. Total number of comments for each income group"
   ]
  },
  {
   "cell_type": "code",
   "execution_count": 5,
   "metadata": {},
   "outputs": [
    {
     "data": {
      "text/plain": [
       "income_group\n",
       "lower_middle     685\n",
       "upper           9828\n",
       "upper_middle     656\n",
       "Name: subreddit, dtype: int64"
      ]
     },
     "execution_count": 5,
     "metadata": {},
     "output_type": "execute_result"
    }
   ],
   "source": [
    "df.groupby('income_group').subreddit.count()"
   ]
  },
  {
   "cell_type": "markdown",
   "metadata": {},
   "source": [
    "### 3. Country names for each income group"
   ]
  },
  {
   "cell_type": "code",
   "execution_count": 6,
   "metadata": {},
   "outputs": [
    {
     "data": {
      "text/plain": [
       "income_group\n",
       "lower_middle                                  [india, pakistan, Philippines, ukraine, VietNam]\n",
       "upper           [australia, canada, CoronavirusUS, germany, newzealand, Norway, unitedkingdom]\n",
       "upper_middle                              [China, lebanon, malaysia, russia, Thailand, Turkey]\n",
       "Name: subreddit, dtype: object"
      ]
     },
     "execution_count": 6,
     "metadata": {},
     "output_type": "execute_result"
    }
   ],
   "source": [
    "pd.options.display.max_colwidth = 100\n",
    "df.groupby('income_group').subreddit.unique()"
   ]
  },
  {
   "cell_type": "code",
   "execution_count": 8,
   "metadata": {},
   "outputs": [
    {
     "data": {
      "text/plain": [
       "0        fair I think home citizenship relevant visa , ...\n",
       "1        I shave business day agree pick directly passp...\n",
       "2        usual mask , covid passport , event size limit...\n",
       "3        nz citizen live aus fly plenty fly nz passport...\n",
       "4        I come australia overseas trip week I got pull...\n",
       "                               ...                        \n",
       "11164    repost old news early april current outbreak ,...\n",
       "11165    relax rule couple case singapore vietnam peopl...\n",
       "11166    need gov accept fully vaccinated people-- vacc...\n",
       "11167    . vaccine passport sort gov react fast infect ...\n",
       "11168    crazy border close tourist ! repatriate vietna...\n",
       "Name: body, Length: 11169, dtype: object"
      ]
     },
     "execution_count": 8,
     "metadata": {},
     "output_type": "execute_result"
    }
   ],
   "source": [
    "df.body"
   ]
  },
  {
   "cell_type": "code",
   "execution_count": 11,
   "metadata": {},
   "outputs": [
    {
     "data": {
      "text/html": [
       "<div>\n",
       "<style scoped>\n",
       "    .dataframe tbody tr th:only-of-type {\n",
       "        vertical-align: middle;\n",
       "    }\n",
       "\n",
       "    .dataframe tbody tr th {\n",
       "        vertical-align: top;\n",
       "    }\n",
       "\n",
       "    .dataframe thead th {\n",
       "        text-align: right;\n",
       "    }\n",
       "</style>\n",
       "<table border=\"1\" class=\"dataframe\">\n",
       "  <thead>\n",
       "    <tr style=\"text-align: right;\">\n",
       "      <th></th>\n",
       "      <th>Unnamed: 0</th>\n",
       "      <th>created_utc</th>\n",
       "      <th>date</th>\n",
       "      <th>body</th>\n",
       "      <th>subreddit</th>\n",
       "      <th>income_group</th>\n",
       "      <th>permalink</th>\n",
       "      <th>subjectivity</th>\n",
       "      <th>polarity</th>\n",
       "      <th>label</th>\n",
       "    </tr>\n",
       "  </thead>\n",
       "  <tbody>\n",
       "  </tbody>\n",
       "</table>\n",
       "</div>"
      ],
      "text/plain": [
       "Empty DataFrame\n",
       "Columns: [Unnamed: 0, created_utc, date, body, subreddit, income_group, permalink, subjectivity, polarity, label]\n",
       "Index: []"
      ]
     },
     "execution_count": 11,
     "metadata": {},
     "output_type": "execute_result"
    }
   ],
   "source": [
    "df[df.body.str.contains('\\n',regex=False)]"
   ]
  }
 ],
 "metadata": {
  "kernelspec": {
   "display_name": "Python 3",
   "language": "python",
   "name": "python3"
  },
  "language_info": {
   "codemirror_mode": {
    "name": "ipython",
    "version": 3
   },
   "file_extension": ".py",
   "mimetype": "text/x-python",
   "name": "python",
   "nbconvert_exporter": "python",
   "pygments_lexer": "ipython3",
   "version": "3.8.5"
  }
 },
 "nbformat": 4,
 "nbformat_minor": 4
}
