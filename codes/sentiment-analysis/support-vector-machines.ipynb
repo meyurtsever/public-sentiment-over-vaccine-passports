{
 "cells": [
  {
   "cell_type": "code",
   "execution_count": 1,
   "metadata": {},
   "outputs": [],
   "source": [
    "import pandas as pd\n",
    "import numpy as np\n",
    "\n",
    "from sklearn.multiclass import OneVsRestClassifier\n",
    "from sklearn.feature_extraction.text import TfidfVectorizer\n",
    "from sklearn.model_selection import train_test_split\n",
    "from sklearn.preprocessing import LabelEncoder\n",
    "from sklearn.metrics import accuracy_score, f1_score, precision_score, recall_score, classification_report, confusion_matrix, matthews_corrcoef, roc_curve, auc, roc_auc_score\n",
    "from sklearn import preprocessing\n",
    "\n",
    "from sklearn.svm import SVC\n",
    "from sklearn.svm import LinearSVC\n",
    "from sklearn.model_selection import learning_curve\n",
    "\n",
    "import matplotlib.pyplot as plt"
   ]
  },
  {
   "cell_type": "markdown",
   "metadata": {},
   "source": [
    "### Read the data"
   ]
  },
  {
   "cell_type": "code",
   "execution_count": 3,
   "metadata": {},
   "outputs": [],
   "source": [
    "data = pd.read_csv('../preprocessed_all_countries_combined_comments.csv')"
   ]
  },
  {
   "cell_type": "code",
   "execution_count": 4,
   "metadata": {},
   "outputs": [
    {
     "data": {
      "text/html": [
       "<div>\n",
       "<style scoped>\n",
       "    .dataframe tbody tr th:only-of-type {\n",
       "        vertical-align: middle;\n",
       "    }\n",
       "\n",
       "    .dataframe tbody tr th {\n",
       "        vertical-align: top;\n",
       "    }\n",
       "\n",
       "    .dataframe thead th {\n",
       "        text-align: right;\n",
       "    }\n",
       "</style>\n",
       "<table border=\"1\" class=\"dataframe\">\n",
       "  <thead>\n",
       "    <tr style=\"text-align: right;\">\n",
       "      <th></th>\n",
       "      <th>Unnamed: 0</th>\n",
       "      <th>created_utc</th>\n",
       "      <th>date</th>\n",
       "      <th>body</th>\n",
       "      <th>subreddit</th>\n",
       "      <th>income_group</th>\n",
       "      <th>permalink</th>\n",
       "      <th>subjectivity</th>\n",
       "      <th>polarity</th>\n",
       "      <th>label</th>\n",
       "      <th>total_cases</th>\n",
       "      <th>new_cases</th>\n",
       "    </tr>\n",
       "  </thead>\n",
       "  <tbody>\n",
       "    <tr>\n",
       "      <th>0</th>\n",
       "      <td>0</td>\n",
       "      <td>1.643123e+09</td>\n",
       "      <td>2022-01-25</td>\n",
       "      <td>fair I think home citizenship relevant visa tr...</td>\n",
       "      <td>australia</td>\n",
       "      <td>upper</td>\n",
       "      <td>/r/australia/comments/sccs51/visitor_informati...</td>\n",
       "      <td>0.480000</td>\n",
       "      <td>0.360000</td>\n",
       "      <td>positive</td>\n",
       "      <td>2340046.0</td>\n",
       "      <td>52920.0</td>\n",
       "    </tr>\n",
       "    <tr>\n",
       "      <th>1</th>\n",
       "      <td>1</td>\n",
       "      <td>1.642923e+09</td>\n",
       "      <td>2022-01-23</td>\n",
       "      <td>I shave business day agree pick directly passp...</td>\n",
       "      <td>australia</td>\n",
       "      <td>upper</td>\n",
       "      <td>/r/australia/comments/sao21y/how_long_does_it_...</td>\n",
       "      <td>0.575000</td>\n",
       "      <td>0.200000</td>\n",
       "      <td>positive</td>\n",
       "      <td>2229104.0</td>\n",
       "      <td>32234.0</td>\n",
       "    </tr>\n",
       "    <tr>\n",
       "      <th>2</th>\n",
       "      <td>2</td>\n",
       "      <td>1.642822e+09</td>\n",
       "      <td>2022-01-22</td>\n",
       "      <td>usual mask covid passport event size limit bun...</td>\n",
       "      <td>australia</td>\n",
       "      <td>upper</td>\n",
       "      <td>/r/australia/comments/s9n0mw/who_wants_to_get_...</td>\n",
       "      <td>0.250000</td>\n",
       "      <td>-0.250000</td>\n",
       "      <td>negative</td>\n",
       "      <td>2196870.0</td>\n",
       "      <td>67182.0</td>\n",
       "    </tr>\n",
       "    <tr>\n",
       "      <th>3</th>\n",
       "      <td>3</td>\n",
       "      <td>1.642143e+09</td>\n",
       "      <td>2022-01-14</td>\n",
       "      <td>nz citizen live aus fly plenty fly nz passport...</td>\n",
       "      <td>australia</td>\n",
       "      <td>upper</td>\n",
       "      <td>/r/australia/comments/s3h17y/travelling_to_aus...</td>\n",
       "      <td>0.797222</td>\n",
       "      <td>0.559091</td>\n",
       "      <td>positive</td>\n",
       "      <td>1613249.0</td>\n",
       "      <td>86288.0</td>\n",
       "    </tr>\n",
       "    <tr>\n",
       "      <th>4</th>\n",
       "      <td>4</td>\n",
       "      <td>1.642146e+09</td>\n",
       "      <td>2022-01-14</td>\n",
       "      <td>need person consent record blur face man trave...</td>\n",
       "      <td>australia</td>\n",
       "      <td>upper</td>\n",
       "      <td>/r/australia/comments/s3lz4w/djokovic_visa_can...</td>\n",
       "      <td>0.000000</td>\n",
       "      <td>0.000000</td>\n",
       "      <td>neutral</td>\n",
       "      <td>1613249.0</td>\n",
       "      <td>86288.0</td>\n",
       "    </tr>\n",
       "  </tbody>\n",
       "</table>\n",
       "</div>"
      ],
      "text/plain": [
       "   Unnamed: 0   created_utc        date  \\\n",
       "0           0  1.643123e+09  2022-01-25   \n",
       "1           1  1.642923e+09  2022-01-23   \n",
       "2           2  1.642822e+09  2022-01-22   \n",
       "3           3  1.642143e+09  2022-01-14   \n",
       "4           4  1.642146e+09  2022-01-14   \n",
       "\n",
       "                                                body  subreddit income_group  \\\n",
       "0  fair I think home citizenship relevant visa tr...  australia        upper   \n",
       "1  I shave business day agree pick directly passp...  australia        upper   \n",
       "2  usual mask covid passport event size limit bun...  australia        upper   \n",
       "3  nz citizen live aus fly plenty fly nz passport...  australia        upper   \n",
       "4  need person consent record blur face man trave...  australia        upper   \n",
       "\n",
       "                                           permalink  subjectivity  polarity  \\\n",
       "0  /r/australia/comments/sccs51/visitor_informati...      0.480000  0.360000   \n",
       "1  /r/australia/comments/sao21y/how_long_does_it_...      0.575000  0.200000   \n",
       "2  /r/australia/comments/s9n0mw/who_wants_to_get_...      0.250000 -0.250000   \n",
       "3  /r/australia/comments/s3h17y/travelling_to_aus...      0.797222  0.559091   \n",
       "4  /r/australia/comments/s3lz4w/djokovic_visa_can...      0.000000  0.000000   \n",
       "\n",
       "      label  total_cases  new_cases  \n",
       "0  positive    2340046.0    52920.0  \n",
       "1  positive    2229104.0    32234.0  \n",
       "2  negative    2196870.0    67182.0  \n",
       "3  positive    1613249.0    86288.0  \n",
       "4   neutral    1613249.0    86288.0  "
      ]
     },
     "execution_count": 4,
     "metadata": {},
     "output_type": "execute_result"
    }
   ],
   "source": [
    "data.head()"
   ]
  },
  {
   "cell_type": "markdown",
   "metadata": {},
   "source": [
    "### Get label column"
   ]
  },
  {
   "cell_type": "code",
   "execution_count": 6,
   "metadata": {},
   "outputs": [
    {
     "name": "stdout",
     "output_type": "stream",
     "text": [
      "['positive' 'positive' 'negative' ... 'positive' 'positive' 'negative']\n"
     ]
    }
   ],
   "source": [
    "label = data.loc[:, 'label'].values\n",
    "print(label)"
   ]
  },
  {
   "cell_type": "markdown",
   "metadata": {},
   "source": [
    "### Train-test-split"
   ]
  },
  {
   "cell_type": "code",
   "execution_count": 7,
   "metadata": {},
   "outputs": [],
   "source": [
    "X_train, X_test, y_train, y_test = train_test_split (data['body'], label, test_size=0.3, random_state=0)"
   ]
  },
  {
   "cell_type": "markdown",
   "metadata": {},
   "source": [
    "### Label encoder"
   ]
  },
  {
   "cell_type": "code",
   "execution_count": 8,
   "metadata": {},
   "outputs": [
    {
     "name": "stdout",
     "output_type": "stream",
     "text": [
      "['positive' 'positive' 'negative' 'negative' 'positive' 'neutral'\n",
      " 'neutral' 'positive' 'positive' 'negative']\n",
      "[2 2 0 0 2 1 1 2 2 0]\n"
     ]
    }
   ],
   "source": [
    "Encoder = LabelEncoder()\n",
    "print(y_train[:10])\n",
    "y_train = Encoder.fit_transform(y_train)\n",
    "print(y_train[:10])\n",
    "y_test = Encoder.fit_transform(y_test)"
   ]
  },
  {
   "cell_type": "markdown",
   "metadata": {},
   "source": [
    "### TFIDF vectorizer"
   ]
  },
  {
   "cell_type": "code",
   "execution_count": 9,
   "metadata": {},
   "outputs": [
    {
     "name": "stdout",
     "output_type": "stream",
     "text": [
      "[[0. 0. 0. ... 0. 0. 0.]\n",
      " [0. 0. 0. ... 0. 0. 0.]\n",
      " [0. 0. 0. ... 0. 0. 0.]\n",
      " ...\n",
      " [0. 0. 0. ... 0. 0. 0.]\n",
      " [0. 0. 0. ... 0. 0. 0.]\n",
      " [0. 0. 0. ... 0. 0. 0.]]\n"
     ]
    }
   ],
   "source": [
    "vectorizer = TfidfVectorizer(analyzer='word', lowercase=True)\n",
    "\n",
    "X_train_tfidf = vectorizer.fit_transform(X_train.values.astype(str))\n",
    "X_test_tfidf = vectorizer.transform(X_test.values.astype(str))\n",
    "\n",
    "print(X_train_tfidf.toarray())"
   ]
  },
  {
   "cell_type": "markdown",
   "metadata": {},
   "source": [
    "### Fit the linear vector classifier"
   ]
  },
  {
   "cell_type": "code",
   "execution_count": 10,
   "metadata": {},
   "outputs": [
    {
     "data": {
      "text/plain": [
       "LinearSVC()"
      ]
     },
     "execution_count": 10,
     "metadata": {},
     "output_type": "execute_result"
    }
   ],
   "source": [
    "# 3 kernel var. polinom, rbf ve lineer. default rbf\n",
    "# svc = SVC(kernel='linear', cache_size=10000)LinearSVC()\n",
    "svc = LinearSVC()\n",
    "# train\n",
    "svc.fit(X_train_tfidf, y_train)"
   ]
  },
  {
   "cell_type": "markdown",
   "metadata": {},
   "source": [
    "### Get predictions from the model"
   ]
  },
  {
   "cell_type": "code",
   "execution_count": 12,
   "metadata": {},
   "outputs": [],
   "source": [
    "# predict the labels on validation dataset\n",
    "predictions_SVM = svc.predict(X_test_tfidf)"
   ]
  },
  {
   "cell_type": "code",
   "execution_count": 13,
   "metadata": {},
   "outputs": [
    {
     "name": "stdout",
     "output_type": "stream",
     "text": [
      "0.8466129513578037\n"
     ]
    }
   ],
   "source": [
    "accuracy = accuracy_score(y_test, predictions_SVM)\n",
    "print(accuracy)"
   ]
  },
  {
   "cell_type": "markdown",
   "metadata": {},
   "source": [
    "## 1. Learning Curve"
   ]
  },
  {
   "cell_type": "code",
   "execution_count": 14,
   "metadata": {},
   "outputs": [
    {
     "name": "stdout",
     "output_type": "stream",
     "text": [
      "[learning_curve] Training set sizes: [  70  212  354  496  638  781  923 1065 1207 1349 1491 1633 1775 1918\n",
      " 2060 2202 2344 2486 2628 2770 2913 3055 3197 3339 3481 3623 3765 3908\n",
      " 4050 4192 4334 4476 4618 4760 4902 5045 5187 5329 5471 5613 5755 5897\n",
      " 6040 6182 6324 6466 6608 6750 6892 7035]\n"
     ]
    },
    {
     "name": "stderr",
     "output_type": "stream",
     "text": [
      "[Parallel(n_jobs=-1)]: Using backend LokyBackend with 6 concurrent workers.\n",
      "[Parallel(n_jobs=-1)]: Done 500 out of 500 | elapsed:    9.4s finished\n"
     ]
    }
   ],
   "source": [
    "train_sizes, train_scores, test_scores = learning_curve(LinearSVC(), X_train_tfidf, y_train, cv=10, scoring='accuracy', n_jobs=-1, train_sizes=np.linspace(0.01,1,50), verbose=1)"
   ]
  },
  {
   "cell_type": "code",
   "execution_count": 15,
   "metadata": {},
   "outputs": [
    {
     "data": {
      "text/plain": [
       "array([1.        , 1.        , 1.        , 1.        , 1.        ,\n",
       "       0.99987196, 0.99989166, 0.9999061 , 0.99991715, 0.99992587,\n",
       "       0.99939638, 0.99938763, 0.99943662, 0.99911366, 0.99912621,\n",
       "       0.99913715, 0.99923208, 0.99907482, 0.99908676, 0.99870036,\n",
       "       0.99814624, 0.99846154, 0.99843603, 0.9982929 , 0.99796036,\n",
       "       0.99737786, 0.99742364, 0.99774821, 0.99785185, 0.9978292 ,\n",
       "       0.99764652, 0.99736372, 0.99720658, 0.99728992, 0.99726642,\n",
       "       0.99754212, 0.99745518, 0.99737287, 0.997569  , 0.99743453,\n",
       "       0.99749783, 0.99735459, 0.99746689, 0.99754125, 0.99734345,\n",
       "       0.99716981, 0.99713983, 0.99699259, 0.99722867, 0.99711443])"
      ]
     },
     "execution_count": 15,
     "metadata": {},
     "output_type": "execute_result"
    }
   ],
   "source": [
    "# getting mean values of training score\n",
    "train_mean = np.mean(train_scores, axis=1)\n",
    "train_mean"
   ]
  },
  {
   "cell_type": "code",
   "execution_count": 16,
   "metadata": {},
   "outputs": [],
   "source": [
    "train_std = np.std(train_scores, axis=1)\n",
    "test_mean = np.mean(test_scores, axis=1)\n",
    "test_std = np.std(test_scores, axis=1)"
   ]
  },
  {
   "cell_type": "code",
   "execution_count": 17,
   "metadata": {},
   "outputs": [
    {
     "data": {
      "text/plain": [
       "<matplotlib.legend.Legend at 0x28e800ad430>"
      ]
     },
     "execution_count": 17,
     "metadata": {},
     "output_type": "execute_result"
    },
    {
     "data": {
      "image/png": "[encoded data removed]",
      "text/plain": [
       "<Figure size 432x288 with 1 Axes>"
      ]
     },
     "metadata": {
      "needs_background": "light"
     },
     "output_type": "display_data"
    }
   ],
   "source": [
    "plt.plot(train_sizes, train_mean, label='Training Score')\n",
    "plt.plot(train_sizes, test_mean, label='Cross-Validation Score')\n",
    "\n",
    "plt.fill_between(train_sizes, train_mean-train_std, train_mean+train_std, color='#DDDDDD')\n",
    "plt.fill_between(train_sizes, test_mean-test_std, test_mean+test_std, color='#DDDDDD')\n",
    "\n",
    "plt.title('Learning Curve')\n",
    "plt.xlabel('Training Size')\n",
    "plt.ylabel('Accuracy Score')\n",
    "plt.legend(loc = 'best')"
   ]
  },
  {
   "cell_type": "markdown",
   "metadata": {},
   "source": [
    "### 2. Model Evaluation\n",
    ">**TN / True Negative:** the case was negative and predicted negative<br>\n",
    "**TP / True Positive:** the case was positive and predicted positive<br>\n",
    "**FN / False Negative:** the case was positive but predicted negative<br>\n",
    "**FP / False Positive:** the case was negative but predicted positive<br>"
   ]
  },
  {
   "cell_type": "markdown",
   "metadata": {},
   "source": [
    "#### 2.1. Accuracy"
   ]
  },
  {
   "cell_type": "code",
   "execution_count": 19,
   "metadata": {},
   "outputs": [
    {
     "name": "stdout",
     "output_type": "stream",
     "text": [
      "0.8466129513578037\n"
     ]
    }
   ],
   "source": [
    "accuracy = accuracy_score(y_test, predictions_SVM)\n",
    "print(accuracy)"
   ]
  },
  {
   "cell_type": "markdown",
   "metadata": {},
   "source": [
    "#### 2.2. F-Measure\n",
    ">**What percent of positive predictions were correct?**<br>\n",
    "F1 Score = 2*(Recall * Precision) / (Recall + Precision)"
   ]
  },
  {
   "cell_type": "code",
   "execution_count": 21,
   "metadata": {},
   "outputs": [
    {
     "name": "stdout",
     "output_type": "stream",
     "text": [
      "0.8263503304874474\n"
     ]
    }
   ],
   "source": [
    "print(f1_score(y_test, predictions_SVM, average=\"macro\"))"
   ]
  },
  {
   "cell_type": "markdown",
   "metadata": {},
   "source": [
    "#### 2.3. Precision\n",
    ">**Accuracy of positive predictions.**<br>\n",
    "Precision = TP/(TP + FP)"
   ]
  },
  {
   "cell_type": "code",
   "execution_count": 22,
   "metadata": {},
   "outputs": [
    {
     "name": "stdout",
     "output_type": "stream",
     "text": [
      "0.8391254602739183\n"
     ]
    }
   ],
   "source": [
    "print(precision_score(y_test, predictions_SVM, average=\"macro\"))"
   ]
  },
  {
   "cell_type": "markdown",
   "metadata": {},
   "source": [
    "#### 2.4. Recall\n",
    ">**What percent of the positive cases did you catch?**<br>\n",
    "Recall = TP/(TP+FN)"
   ]
  },
  {
   "cell_type": "code",
   "execution_count": 23,
   "metadata": {},
   "outputs": [
    {
     "name": "stdout",
     "output_type": "stream",
     "text": [
      "0.8159698464561043\n"
     ]
    }
   ],
   "source": [
    "print(recall_score(y_test, predictions_SVM, average=\"macro\")) "
   ]
  },
  {
   "cell_type": "code",
   "execution_count": null,
   "metadata": {},
   "outputs": [],
   "source": []
  }
 ],
 "metadata": {
  "kernelspec": {
   "display_name": "Python 3",
   "language": "python",
   "name": "python3"
  },
  "language_info": {
   "codemirror_mode": {
    "name": "ipython",
    "version": 3
   },
   "file_extension": ".py",
   "mimetype": "text/x-python",
   "name": "python",
   "nbconvert_exporter": "python",
   "pygments_lexer": "ipython3",
   "version": "3.8.5"
  }
 },
 "nbformat": 4,
 "nbformat_minor": 4
}
