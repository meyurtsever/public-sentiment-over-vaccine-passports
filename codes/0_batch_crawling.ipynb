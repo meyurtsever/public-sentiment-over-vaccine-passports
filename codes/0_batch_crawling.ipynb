{
 "cells": [
  {
   "cell_type": "code",
   "execution_count": 1,
   "metadata": {},
   "outputs": [],
   "source": [
    "import urllib.request, urllib.error\n",
    "import pandas as pd\n",
    "import json\n",
    "import csv\n",
    "import os\n",
    "import time\n",
    "import re"
   ]
  },
  {
   "cell_type": "code",
   "execution_count": 2,
   "metadata": {},
   "outputs": [],
   "source": [
    "# Search keywords\n",
    "# vaccine passport\n",
    "# covid passport\n",
    "# vaccine certificate"
   ]
  },
  {
   "cell_type": "code",
   "execution_count": 3,
   "metadata": {
    "scrolled": true
   },
   "outputs": [],
   "source": [
    "def crawl_data(subreddit, search_param):\n",
    "    iteration = 0\n",
    "\n",
    "    # time in epoch. \n",
    "    # used for crawling to iterate in time (epoch value)\n",
    "    # 86400 in epochs --> 1 (one) day.\n",
    "    search_iteration_interval = 86400\n",
    "\n",
    "    # performs full-text search (based on elasticsearch)\n",
    "    # for before, after and q params visit: https://github.com/pushshift/api#search-parameters-for-comments\n",
    "    seach_param = search_param\n",
    "    subreddit = subreddit\n",
    "    filename = str(subreddit + \"_\" + seach_param + \"_\" + 'comments.csv')\n",
    "\n",
    "    before = int(time.time())\n",
    "    after = before - search_iteration_interval\n",
    "\n",
    "    seach_param = re.sub(\" \", \"%20\", seach_param)\n",
    "\n",
    "    # as one iteration searches for one-day comments, this will search comments from now on to the past 400 days.\n",
    "    while iteration < 400:\n",
    "\n",
    "        url = \"https://api.pushshift.io/reddit/search/comment/?q=\"+ str(seach_param) +\"&subreddit=\" +str(subreddit)+ \"&after=\" + str(after) + \"&before=\" + str(before) + \"&sort=asc&size=100\"\n",
    "\n",
    "        try:\n",
    "            data = urllib.request.urlopen(url).read()\n",
    "\n",
    "        except urllib.error.HTTPError as e:\n",
    "            print('HTTPError: {}'.format(e.code))\n",
    "\n",
    "        except urllib.error.URLError as e:\n",
    "            print('URLError: {}'.format(e.reason))\n",
    "\n",
    "        else:\n",
    "            # 200 - success.\n",
    "            # print('200 - success.')\n",
    "            # print(url)\n",
    "            data = json.loads(data)\n",
    "\n",
    "            df = pd.DataFrame(data['data'])\n",
    "\n",
    "            if 'created_utc' in df.columns:\n",
    "                df = df[['created_utc', 'body', 'subreddit', 'subreddit_id', 'permalink']]\n",
    "\n",
    "                # en eski tarih\n",
    "                #after = df['created_utc'].iloc[-1] - 432.000\n",
    "                after = df['created_utc'].iloc[0] - search_iteration_interval\n",
    "\n",
    "                # en guncel tarih en altta.\n",
    "                #before = df['created_utc'].iloc[-1]\n",
    "                before = df['created_utc'].iloc[0]\n",
    "\n",
    "                df.to_csv(filename, mode='a', header=not os.path.exists(filename))\n",
    "\n",
    "                iteration = iteration + 1\n",
    "                #print(iteration)\n",
    "                time.sleep(2)\n",
    "\n",
    "            else:  \n",
    "                iteration = iteration + 1\n",
    "                #print('no comment found regarding the search param (q) in iteration ', iteration)\n",
    "                before = before - search_iteration_interval\n",
    "                after = after - search_iteration_interval\n",
    "                time.sleep(2)\n",
    "                continue\n",
    "    print('Comments saved to file: ', filename)"
   ]
  },
  {
   "cell_type": "code",
   "execution_count": 4,
   "metadata": {},
   "outputs": [],
   "source": [
    "subreddits = ['Nigeria', 'pakistan', 'ukraine', 'Philippines', 'VietNam']\n",
    "keywords = ['vaccine passport', 'covid passport', 'vaccine certificate']"
   ]
  },
  {
   "cell_type": "code",
   "execution_count": 5,
   "metadata": {},
   "outputs": [
    {
     "name": "stdout",
     "output_type": "stream",
     "text": [
      "HTTPError: 502\n",
      "Comments saved to file:  Nigeria_vaccine passport_comments.csv\n",
      "Comments saved to file:  Nigeria_covid passport_comments.csv\n",
      "HTTPError: 502\n",
      "Comments saved to file:  Nigeria_vaccine certificate_comments.csv\n",
      "Comments saved to file:  pakistan_vaccine passport_comments.csv\n",
      "HTTPError: 502\n",
      "HTTPError: 502\n",
      "HTTPError: 502\n",
      "HTTPError: 502\n",
      "HTTPError: 502\n",
      "Comments saved to file:  pakistan_covid passport_comments.csv\n",
      "HTTPError: 502\n",
      "HTTPError: 502\n",
      "Comments saved to file:  pakistan_vaccine certificate_comments.csv\n",
      "Comments saved to file:  ukraine_vaccine passport_comments.csv\n",
      "Comments saved to file:  ukraine_covid passport_comments.csv\n",
      "Comments saved to file:  ukraine_vaccine certificate_comments.csv\n",
      "Comments saved to file:  Philippines_vaccine passport_comments.csv\n",
      "Comments saved to file:  Philippines_covid passport_comments.csv\n",
      "Comments saved to file:  Philippines_vaccine certificate_comments.csv\n",
      "Comments saved to file:  VietNam_vaccine passport_comments.csv\n",
      "Comments saved to file:  VietNam_covid passport_comments.csv\n",
      "Comments saved to file:  VietNam_vaccine certificate_comments.csv\n"
     ]
    }
   ],
   "source": [
    "for subr in subreddits:\n",
    "    for keyw in keywords:\n",
    "        crawl_data(subr, keyw)"
   ]
  },
  {
   "cell_type": "code",
   "execution_count": null,
   "metadata": {},
   "outputs": [],
   "source": []
  }
 ],
 "metadata": {
  "kernelspec": {
   "display_name": "Python 3",
   "language": "python",
   "name": "python3"
  },
  "language_info": {
   "codemirror_mode": {
    "name": "ipython",
    "version": 3
   },
   "file_extension": ".py",
   "mimetype": "text/x-python",
   "name": "python",
   "nbconvert_exporter": "python",
   "pygments_lexer": "ipython3",
   "version": "3.8.5"
  }
 },
 "nbformat": 4,
 "nbformat_minor": 4
}
