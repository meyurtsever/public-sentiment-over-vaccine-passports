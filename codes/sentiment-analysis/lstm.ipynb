{
 "cells": [
  {
   "cell_type": "code",
   "execution_count": 1,
   "metadata": {},
   "outputs": [],
   "source": [
    "import pandas as pd\n",
    "import numpy as np\n",
    "\n",
    "import tensorflow as tf\n",
    "\n",
    "import matplotlib.pyplot as plt\n",
    "\n",
    "from tensorflow.keras import regularizers\n",
    "from tensorflow.keras import layers\n",
    "from tensorflow.keras import losses\n",
    "\n",
    "from tensorflow.keras.metrics import AUC\n",
    "\n",
    "from sklearn.feature_extraction.text import TfidfVectorizer\n",
    "from sklearn.model_selection import train_test_split\n",
    "from sklearn.preprocessing import LabelEncoder\n",
    "from sklearn.metrics import accuracy_score, f1_score, precision_score, recall_score, classification_report, confusion_matrix, matthews_corrcoef, roc_curve, auc, roc_auc_score\n",
    "\n",
    "from tensorflow.keras.preprocessing.text import Tokenizer\n",
    "from tensorflow.keras.preprocessing.sequence import pad_sequences"
   ]
  },
  {
   "cell_type": "code",
   "execution_count": 2,
   "metadata": {},
   "outputs": [],
   "source": [
    "train_data = pd.read_csv('../preprocessed_all_countries_combined_comments.csv')"
   ]
  },
  {
   "cell_type": "code",
   "execution_count": 3,
   "metadata": {},
   "outputs": [],
   "source": [
    "# calculate word count of each sentence\n",
    "train_data['word_counter'] = train_data['body'].apply(lambda x:len(str(x).split())) "
   ]
  },
  {
   "cell_type": "code",
   "execution_count": 4,
   "metadata": {},
   "outputs": [
    {
     "name": "stdout",
     "output_type": "stream",
     "text": [
      "Info about training data:\n",
      "positive    5961\n",
      "negative    3260\n",
      "neutral     1947\n",
      "Name: label, dtype: int64\n",
      "Total comments:  11168\n"
     ]
    }
   ],
   "source": [
    "print('Info about training data:')\n",
    "print(train_data['label'].value_counts())\n",
    "print('Total comments: ', len(train_data))\n",
    "\n",
    "# will be used in cnn\n",
    "max_train_sentence_length  = train_data['word_counter'].max()"
   ]
  },
  {
   "cell_type": "code",
   "execution_count": 5,
   "metadata": {},
   "outputs": [
    {
     "name": "stdout",
     "output_type": "stream",
     "text": [
      "Train Max Sentence Length :819\n"
     ]
    }
   ],
   "source": [
    "# will be used for padding\n",
    "print('Train Max Sentence Length :'+str(max_train_sentence_length))"
   ]
  },
  {
   "cell_type": "code",
   "execution_count": 6,
   "metadata": {},
   "outputs": [
    {
     "name": "stdout",
     "output_type": "stream",
     "text": [
      "[[1, 1, 1, 28]]\n"
     ]
    }
   ],
   "source": [
    "# consider 10k comments\n",
    "num_words = 10000\n",
    "\n",
    "# convert texts to number format - for tensorflow.\n",
    "\n",
    "tokenizer = Tokenizer(num_words=num_words,oov_token=\"unk\")\n",
    "tokenizer.fit_on_texts(train_data['body'].values.astype(str).tolist())\n",
    "\n",
    "print(str(tokenizer.texts_to_sequences(['this is a test'])))"
   ]
  },
  {
   "cell_type": "code",
   "execution_count": 7,
   "metadata": {},
   "outputs": [],
   "source": [
    "# splitting train and test data\n",
    "X_train, X_test, y_train, y_test = train_test_split(train_data['body'],\\\n",
    "                                                      train_data['label'],\\\n",
    "                                                      test_size=0.1,\\\n",
    "                                                      random_state=0)"
   ]
  },
  {
   "cell_type": "code",
   "execution_count": 8,
   "metadata": {},
   "outputs": [
    {
     "name": "stderr",
     "output_type": "stream",
     "text": [
      "<ipython-input-8-52717cdf9361>:2: VisibleDeprecationWarning: Creating an ndarray from ragged nested sequences (which is a list-or-tuple of lists-or-tuples-or ndarrays with different lengths or shapes) is deprecated. If you meant to do this, you must specify 'dtype=object' when creating the ndarray\n",
      "  x_train = np.array( tokenizer.texts_to_sequences(X_train.values.astype(str)) )\n",
      "<ipython-input-8-52717cdf9361>:3: VisibleDeprecationWarning: Creating an ndarray from ragged nested sequences (which is a list-or-tuple of lists-or-tuples-or ndarrays with different lengths or shapes) is deprecated. If you meant to do this, you must specify 'dtype=object' when creating the ndarray\n",
      "  x_test  = np.array( tokenizer.texts_to_sequences(X_test.values.astype(str)) )\n"
     ]
    }
   ],
   "source": [
    "# text-to-number\n",
    "x_train = np.array( tokenizer.texts_to_sequences(X_train.values.astype(str)) )\n",
    "x_test  = np.array( tokenizer.texts_to_sequences(X_test.values.astype(str)) )"
   ]
  },
  {
   "cell_type": "code",
   "execution_count": 9,
   "metadata": {},
   "outputs": [],
   "source": [
    "# we get different length sentences after tokenizer.\n",
    "# we need fixed size vectors. so padding is applied.\n",
    "# max length of a sentence was given above. it was 819.\n",
    "# here we are taking maxlen=256 and applying padding.\n",
    "x_train = pad_sequences(x_train, padding='post', maxlen=256)\n",
    "x_test = pad_sequences(x_test, padding='post', maxlen=256)"
   ]
  },
  {
   "cell_type": "code",
   "execution_count": 10,
   "metadata": {},
   "outputs": [
    {
     "data": {
      "text/plain": [
       "['negative', 'neutral', 'positive']"
      ]
     },
     "execution_count": 10,
     "metadata": {},
     "output_type": "execute_result"
    }
   ],
   "source": [
    "# label encoding: 'positive', 'negative' and 'neutral' is converted to number format.\n",
    "le = LabelEncoder()\n",
    "\n",
    "train_labels = le.fit_transform(y_train)\n",
    "train_labels = np.asarray( tf.keras.utils.to_categorical(train_labels))\n",
    "\n",
    "test_labels = le.transform(y_test)\n",
    "test_labels = np.asarray(tf.keras.utils.to_categorical(test_labels))\n",
    "list(le.classes_)"
   ]
  },
  {
   "cell_type": "code",
   "execution_count": 11,
   "metadata": {},
   "outputs": [
    {
     "name": "stdout",
     "output_type": "stream",
     "text": [
      "9704     negative\n",
      "836      negative\n",
      "2701     positive\n",
      "8805     positive\n",
      "8506     negative\n",
      "6502     positive\n",
      "9204      neutral\n",
      "10006     neutral\n",
      "6053      neutral\n",
      "3245     positive\n",
      "Name: label, dtype: object\n",
      "Text to number\n",
      "[0 0 2 2 0 2 1 1 1 2]\n",
      "Number to category\n",
      "[[1. 0. 0.]\n",
      " [1. 0. 0.]\n",
      " [0. 0. 1.]\n",
      " [0. 0. 1.]\n",
      " [1. 0. 0.]\n",
      " [0. 0. 1.]\n",
      " [0. 1. 0.]\n",
      " [0. 1. 0.]\n",
      " [0. 1. 0.]\n",
      " [0. 0. 1.]]\n"
     ]
    }
   ],
   "source": [
    "# Details for label encoding process\n",
    "print(y_train[:10])\n",
    "train_labels = le.fit_transform(y_train)\n",
    "print('Text to number')\n",
    "print(train_labels[:10])\n",
    "train_labels = np.asarray( tf.keras.utils.to_categorical(train_labels))\n",
    "print('Number to category')\n",
    "print(train_labels[:10])"
   ]
  },
  {
   "cell_type": "code",
   "execution_count": 12,
   "metadata": {},
   "outputs": [
    {
     "name": "stdout",
     "output_type": "stream",
     "text": [
      "Model: \"sequential\"\n",
      "_________________________________________________________________\n",
      "Layer (type)                 Output Shape              Param #   \n",
      "=================================================================\n",
      "embedding (Embedding)        (None, 256, 64)           640000    \n",
      "_________________________________________________________________\n",
      "lstm (LSTM)                  (None, 256, 64)           33024     \n",
      "_________________________________________________________________\n",
      "flatten (Flatten)            (None, 16384)             0         \n",
      "_________________________________________________________________\n",
      "dense (Dense)                (None, 128)               2097280   \n",
      "_________________________________________________________________\n",
      "dropout (Dropout)            (None, 128)               0         \n",
      "_________________________________________________________________\n",
      "dense_1 (Dense)              (None, 8)                 1032      \n",
      "_________________________________________________________________\n",
      "dropout_1 (Dropout)          (None, 8)                 0         \n",
      "_________________________________________________________________\n",
      "dense_2 (Dense)              (None, 3)                 27        \n",
      "=================================================================\n",
      "Total params: 2,771,363\n",
      "Trainable params: 2,771,363\n",
      "Non-trainable params: 0\n",
      "_________________________________________________________________\n"
     ]
    }
   ],
   "source": [
    "# looking for top 20k comments\n",
    "max_features = 10000\n",
    "\n",
    "#every index is represented by 64 dimensional vector\n",
    "embedding_dim =64\n",
    "\n",
    "#each input has 3263 dimension\n",
    "sequence_length = 256\n",
    "\n",
    "model = tf.keras.Sequential()\n",
    "\n",
    "# first layer is embedding layer.\n",
    "model.add(tf.keras.layers.Embedding(max_features, embedding_dim, input_length=sequence_length,\\\n",
    "                                   embeddings_regularizer = regularizers.l2(0.0005)))     \n",
    "\n",
    "#model.add(tf.keras.layers.LSTM(64, dropout=0.1, return_sequences=True))\n",
    "#model.add(tf.keras.layers.Dense(3))\n",
    "\n",
    "#model.add(tf.keras.layers.Dropout(0.4))\n",
    "\n",
    "model.add(tf.keras.layers.LSTM(embedding_dim,dropout=0.2, recurrent_dropout=0.2,return_sequences=True,\\\n",
    "                                                            kernel_regularizer=regularizers.l2(0.005),\\\n",
    "                                                            bias_regularizer=regularizers.l2(0.005)))\n",
    "\n",
    "model.add(tf.keras.layers.Flatten())\n",
    "\n",
    "model.add(tf.keras.layers.Dense(128, activation='relu',\\\n",
    "                                kernel_regularizer=regularizers.l2(0.001),\\\n",
    "                                bias_regularizer=regularizers.l2(0.001),))\n",
    "model.add(tf.keras.layers.Dropout(0.4))\n",
    "\n",
    "model.add(tf.keras.layers.Dense(8, activation='relu',\\\n",
    "                                kernel_regularizer=regularizers.l2(0.001),\\\n",
    "                                bias_regularizer=regularizers.l2(0.001),))\n",
    "model.add(tf.keras.layers.Dropout(0.4))\n",
    "\n",
    "\n",
    "model.add(tf.keras.layers.Dense(3,activation='softmax',\\\n",
    "                                kernel_regularizer=regularizers.l2(0.001),\\\n",
    "                                bias_regularizer=regularizers.l2(0.001)))\n",
    "\n",
    "model.summary()\n",
    "model.compile(loss=tf.keras.losses.CategoricalCrossentropy(),optimizer=tf.keras.optimizers.Adam(1e-3),metrics=[\"CategoricalAccuracy\", AUC(name='auc')])"
   ]
  },
  {
   "cell_type": "code",
   "execution_count": 13,
   "metadata": {},
   "outputs": [
    {
     "name": "stdout",
     "output_type": "stream",
     "text": [
      "Epoch 1/20\n",
      "315/315 [==============================] - 48s 142ms/step - loss: 1.6555 - categorical_accuracy: 0.5235 - auc: 0.6788 - val_loss: 1.1304 - val_categorical_accuracy: 0.5613 - val_auc: 0.7968\n",
      "Epoch 2/20\n",
      "315/315 [==============================] - 44s 141ms/step - loss: 1.1162 - categorical_accuracy: 0.6128 - auc: 0.8086 - val_loss: 0.9353 - val_categorical_accuracy: 0.6419 - val_auc: 0.8528\n",
      "Epoch 3/20\n",
      "315/315 [==============================] - 41s 129ms/step - loss: 0.9185 - categorical_accuracy: 0.6574 - auc: 0.8613 - val_loss: 0.8740 - val_categorical_accuracy: 0.6786 - val_auc: 0.8713\n",
      "Epoch 4/20\n",
      "315/315 [==============================] - 41s 130ms/step - loss: 0.8271 - categorical_accuracy: 0.7168 - auc: 0.8923 - val_loss: 0.8279 - val_categorical_accuracy: 0.7305 - val_auc: 0.8979\n",
      "Epoch 5/20\n",
      "315/315 [==============================] - 40s 127ms/step - loss: 0.7932 - categorical_accuracy: 0.7665 - auc: 0.9164 - val_loss: 0.7601 - val_categorical_accuracy: 0.7941 - val_auc: 0.9238\n",
      "Epoch 6/20\n",
      "315/315 [==============================] - 42s 132ms/step - loss: 0.7126 - categorical_accuracy: 0.8016 - auc: 0.9414 - val_loss: 0.7436 - val_categorical_accuracy: 0.8299 - val_auc: 0.9363\n",
      "Epoch 7/20\n",
      "315/315 [==============================] - 42s 134ms/step - loss: 0.6313 - categorical_accuracy: 0.8402 - auc: 0.9590 - val_loss: 0.7000 - val_categorical_accuracy: 0.8415 - val_auc: 0.9464\n",
      "Epoch 8/20\n",
      "315/315 [==============================] - 40s 126ms/step - loss: 0.5946 - categorical_accuracy: 0.8692 - auc: 0.9670 - val_loss: 0.6808 - val_categorical_accuracy: 0.8532 - val_auc: 0.9532\n",
      "Epoch 9/20\n",
      "315/315 [==============================] - 39s 124ms/step - loss: 0.5825 - categorical_accuracy: 0.8804 - auc: 0.9699 - val_loss: 0.6485 - val_categorical_accuracy: 0.8514 - val_auc: 0.9551\n",
      "Epoch 10/20\n",
      "315/315 [==============================] - 43s 137ms/step - loss: 0.5378 - categorical_accuracy: 0.8973 - auc: 0.9761 - val_loss: 0.6793 - val_categorical_accuracy: 0.8532 - val_auc: 0.9528\n",
      "Epoch 11/20\n",
      "315/315 [==============================] - 43s 137ms/step - loss: 0.5450 - categorical_accuracy: 0.8936 - auc: 0.9758 - val_loss: 0.6453 - val_categorical_accuracy: 0.8657 - val_auc: 0.9559\n",
      "Epoch 12/20\n",
      "315/315 [==============================] - 44s 140ms/step - loss: 0.5327 - categorical_accuracy: 0.9028 - auc: 0.9778 - val_loss: 0.8974 - val_categorical_accuracy: 0.7860 - val_auc: 0.9159\n",
      "Epoch 13/20\n",
      "315/315 [==============================] - 40s 127ms/step - loss: 0.5307 - categorical_accuracy: 0.8992 - auc: 0.9778 - val_loss: 0.7103 - val_categorical_accuracy: 0.8487 - val_auc: 0.9498\n",
      "Epoch 14/20\n",
      "315/315 [==============================] - 42s 135ms/step - loss: 0.5328 - categorical_accuracy: 0.9031 - auc: 0.9790 - val_loss: 0.6864 - val_categorical_accuracy: 0.8532 - val_auc: 0.9517\n",
      "Epoch 15/20\n",
      "315/315 [==============================] - 44s 139ms/step - loss: 0.5189 - categorical_accuracy: 0.9053 - auc: 0.9800 - val_loss: 0.6719 - val_categorical_accuracy: 0.8729 - val_auc: 0.9558\n",
      "Epoch 16/20\n",
      "315/315 [==============================] - 39s 125ms/step - loss: 0.4904 - categorical_accuracy: 0.9160 - auc: 0.9834 - val_loss: 0.6626 - val_categorical_accuracy: 0.8585 - val_auc: 0.9557\n",
      "Epoch 17/20\n",
      "315/315 [==============================] - 40s 127ms/step - loss: 0.4832 - categorical_accuracy: 0.9147 - auc: 0.9833 - val_loss: 0.7047 - val_categorical_accuracy: 0.8666 - val_auc: 0.9502\n",
      "Epoch 18/20\n",
      "315/315 [==============================] - 39s 124ms/step - loss: 0.4870 - categorical_accuracy: 0.9134 - auc: 0.9837 - val_loss: 0.8818 - val_categorical_accuracy: 0.8594 - val_auc: 0.9427\n",
      "Epoch 19/20\n",
      "315/315 [==============================] - 39s 123ms/step - loss: 0.4722 - categorical_accuracy: 0.9097 - auc: 0.9839 - val_loss: 0.8366 - val_categorical_accuracy: 0.8406 - val_auc: 0.9332\n",
      "Epoch 20/20\n",
      "315/315 [==============================] - 39s 125ms/step - loss: 0.4752 - categorical_accuracy: 0.9129 - auc: 0.9841 - val_loss: 0.6447 - val_categorical_accuracy: 0.8765 - val_auc: 0.9599\n"
     ]
    }
   ],
   "source": [
    "# Training model\n",
    "epochs = 20\n",
    "# Fit the model using the train and test datasets.\n",
    "#history = model.fit(x_train, train_labels,validation_data= (x_test,test_labels),epochs=epochs )\n",
    "history = model.fit(x_train,\n",
    "                    train_labels,\n",
    "                    epochs= epochs,\n",
    "                    validation_data=(x_test, test_labels),\n",
    "                    verbose=1)"
   ]
  },
  {
   "cell_type": "code",
   "execution_count": 14,
   "metadata": {},
   "outputs": [
    {
     "data": {
      "image/png": "[encoded data removed]",
      "text/plain": [
       "<Figure size 432x288 with 1 Axes>"
      ]
     },
     "metadata": {
      "needs_background": "light"
     },
     "output_type": "display_data"
    }
   ],
   "source": [
    "plt.plot(history.history['loss'], label=' training data')\n",
    "plt.plot(history.history['val_loss'], label='validation data)')\n",
    "plt.title('Loss for Text Classification')\n",
    "plt.ylabel('Loss value')\n",
    "plt.xlabel('No. epoch')\n",
    "plt.legend(loc=\"upper left\")\n",
    "plt.show()"
   ]
  },
  {
   "cell_type": "code",
   "execution_count": 15,
   "metadata": {},
   "outputs": [
    {
     "data": {
      "image/png": "[encoded data removed]",
      "text/plain": [
       "<Figure size 432x288 with 1 Axes>"
      ]
     },
     "metadata": {
      "needs_background": "light"
     },
     "output_type": "display_data"
    }
   ],
   "source": [
    "plt.plot(history.history['auc'], label=' Training AUC')\n",
    "plt.plot(history.history['val_auc'], label='Validation AUC)')\n",
    "plt.title('AUC Evaluation')\n",
    "plt.ylabel('AUC')\n",
    "plt.xlabel('No. epoch')\n",
    "plt.legend(loc=\"upper left\")\n",
    "plt.show()"
   ]
  },
  {
   "cell_type": "code",
   "execution_count": 16,
   "metadata": {},
   "outputs": [
    {
     "name": "stderr",
     "output_type": "stream",
     "text": [
      "<ipython-input-16-1bce84296b7e>:1: VisibleDeprecationWarning: Creating an ndarray from ragged nested sequences (which is a list-or-tuple of lists-or-tuples-or ndarrays with different lengths or shapes) is deprecated. If you meant to do this, you must specify 'dtype=object' when creating the ndarray\n",
      "  x_test2  = np.array( tokenizer.texts_to_sequences(X_test.astype(str).tolist()) )\n"
     ]
    }
   ],
   "source": [
    "x_test2  = np.array( tokenizer.texts_to_sequences(X_test.astype(str).tolist()) )\n",
    "x_test2 = pad_sequences(x_test2, padding='post', maxlen=256)"
   ]
  },
  {
   "cell_type": "code",
   "execution_count": 17,
   "metadata": {},
   "outputs": [
    {
     "name": "stdout",
     "output_type": "stream",
     "text": [
      "Generate predictions for all samples\n"
     ]
    },
    {
     "data": {
      "text/plain": [
       "array([2, 2, 2, ..., 1, 0, 0], dtype=int64)"
      ]
     },
     "execution_count": 17,
     "metadata": {},
     "output_type": "execute_result"
    }
   ],
   "source": [
    "# Generate predictions (probabilities -- the output of the last layer)\n",
    "# on test  data using `predict`\n",
    "print(\"Generate predictions for all samples\")\n",
    "y_predictions = model.predict(x_test2)\n",
    "y_pred = y_predictions.argmax(axis=1)\n",
    "y_pred"
   ]
  },
  {
   "cell_type": "code",
   "execution_count": 18,
   "metadata": {},
   "outputs": [],
   "source": [
    "y_pred = np.where((y_pred == 0),'negative',y_pred)\n",
    "y_pred = np.where((y_pred == '1'),'neutral',y_pred)\n",
    "y_pred = np.where((y_pred == '2'),'positive',y_pred)"
   ]
  },
  {
   "cell_type": "code",
   "execution_count": 19,
   "metadata": {},
   "outputs": [
    {
     "name": "stdout",
     "output_type": "stream",
     "text": [
      "              precision    recall  f1-score   support\n",
      "\n",
      "    positive       0.89      0.92      0.90       600\n",
      "    negative       0.89      0.81      0.85       320\n",
      "     neutral       0.83      0.86      0.85       197\n",
      "\n",
      "    accuracy                           0.88      1117\n",
      "   macro avg       0.87      0.86      0.86      1117\n",
      "weighted avg       0.88      0.88      0.88      1117\n",
      "\n"
     ]
    }
   ],
   "source": [
    "labels = ['positive', 'negative','neutral']\n",
    "print(classification_report(y_test, y_pred, labels=labels))"
   ]
  },
  {
   "cell_type": "code",
   "execution_count": null,
   "metadata": {},
   "outputs": [],
   "source": []
  }
 ],
 "metadata": {
  "kernelspec": {
   "display_name": "Python 3",
   "language": "python",
   "name": "python3"
  },
  "language_info": {
   "codemirror_mode": {
    "name": "ipython",
    "version": 3
   },
   "file_extension": ".py",
   "mimetype": "text/x-python",
   "name": "python",
   "nbconvert_exporter": "python",
   "pygments_lexer": "ipython3",
   "version": "3.8.5"
  }
 },
 "nbformat": 4,
 "nbformat_minor": 4
}
