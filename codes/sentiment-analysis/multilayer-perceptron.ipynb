{
 "cells": [
  {
   "cell_type": "code",
   "execution_count": 1,
   "metadata": {},
   "outputs": [],
   "source": [
    "import pandas as pd\n",
    "import numpy as np\n",
    "\n",
    "import tensorflow as tf\n",
    "\n",
    "import matplotlib.pyplot as plt\n",
    "\n",
    "from tensorflow.keras import regularizers\n",
    "from tensorflow.keras import layers\n",
    "from tensorflow.keras import losses\n",
    "from tensorflow.keras.callbacks import EarlyStopping\n",
    "\n",
    "from tensorflow.keras.metrics import AUC\n",
    "\n",
    "from sklearn.feature_extraction.text import TfidfVectorizer\n",
    "from sklearn.model_selection import train_test_split\n",
    "from sklearn.preprocessing import LabelEncoder\n",
    "from sklearn.metrics import accuracy_score, f1_score, precision_score, recall_score, classification_report, confusion_matrix, matthews_corrcoef, roc_curve, auc, roc_auc_score\n",
    "\n",
    "from tensorflow.keras.optimizers import Adam\n",
    "from tensorflow.keras.initializers import Constant\n",
    "from tensorflow.keras.preprocessing.text import Tokenizer\n",
    "from tensorflow.keras.preprocessing.sequence import pad_sequences"
   ]
  },
  {
   "cell_type": "code",
   "execution_count": 2,
   "metadata": {},
   "outputs": [],
   "source": [
    "train_data = pd.read_csv('../preprocessed_all_countries_combined_comments.csv')"
   ]
  },
  {
   "cell_type": "code",
   "execution_count": 3,
   "metadata": {},
   "outputs": [],
   "source": [
    "# calculate word count of each sentence\n",
    "train_data['word_counter'] = train_data['body'].apply(lambda x:len(str(x).split())) "
   ]
  },
  {
   "cell_type": "code",
   "execution_count": 4,
   "metadata": {},
   "outputs": [
    {
     "name": "stdout",
     "output_type": "stream",
     "text": [
      "Info about training data:\n",
      "positive    5961\n",
      "negative    3260\n",
      "neutral     1947\n",
      "Name: label, dtype: int64\n",
      "Total comments:  11168\n"
     ]
    }
   ],
   "source": [
    "print('Info about training data:')\n",
    "print(train_data['label'].value_counts())\n",
    "print('Total comments: ', len(train_data))\n",
    "\n",
    "# will be used for sequence\n",
    "max_train_sentence_length  = train_data['word_counter'].max()"
   ]
  },
  {
   "cell_type": "code",
   "execution_count": 5,
   "metadata": {},
   "outputs": [
    {
     "name": "stdout",
     "output_type": "stream",
     "text": [
      "Train Max Sentence Length :819\n"
     ]
    }
   ],
   "source": [
    "# will be used for padding\n",
    "print('Train Max Sentence Length :'+str(max_train_sentence_length))"
   ]
  },
  {
   "cell_type": "code",
   "execution_count": 6,
   "metadata": {},
   "outputs": [],
   "source": [
    "# consider 11k comments\n",
    "num_words = 11168\n",
    "\n",
    "# convert texts to number format - for tensorflow.\n",
    "\n",
    "tokenizer = Tokenizer(num_words=num_words)\n",
    "tokenizer.fit_on_texts(train_data['body'].values.astype(str).tolist())"
   ]
  },
  {
   "cell_type": "code",
   "execution_count": 7,
   "metadata": {},
   "outputs": [],
   "source": [
    "# splitting train and test data\n",
    "X_train, X_test, y_train, y_test = train_test_split(train_data['body'],\\\n",
    "                                                      train_data['label'],\\\n",
    "                                                      test_size=0.3,\\\n",
    "                                                      random_state=0)"
   ]
  },
  {
   "cell_type": "code",
   "execution_count": 8,
   "metadata": {},
   "outputs": [
    {
     "name": "stderr",
     "output_type": "stream",
     "text": [
      "<ipython-input-8-3ebf70ccd52a>:2: VisibleDeprecationWarning: Creating an ndarray from ragged nested sequences (which is a list-or-tuple of lists-or-tuples-or ndarrays with different lengths or shapes) is deprecated. If you meant to do this, you must specify 'dtype=object' when creating the ndarray\n",
      "  x_train = np.array( tokenizer.texts_to_sequences(X_train.values.astype(str)) )\n",
      "<ipython-input-8-3ebf70ccd52a>:3: VisibleDeprecationWarning: Creating an ndarray from ragged nested sequences (which is a list-or-tuple of lists-or-tuples-or ndarrays with different lengths or shapes) is deprecated. If you meant to do this, you must specify 'dtype=object' when creating the ndarray\n",
      "  x_test  = np.array( tokenizer.texts_to_sequences(X_test.values.astype(str)) )\n"
     ]
    }
   ],
   "source": [
    "# text-to-number\n",
    "x_train = np.array( tokenizer.texts_to_sequences(X_train.values.astype(str)) )\n",
    "x_test  = np.array( tokenizer.texts_to_sequences(X_test.values.astype(str)) )\n",
    "\n",
    "#x_train = tokenizer.texts_to_matrix(X_train.values.astype(str))\n",
    "#x_test  = tokenizer.texts_to_matrix(X_test.values.astype(str))"
   ]
  },
  {
   "cell_type": "code",
   "execution_count": 9,
   "metadata": {},
   "outputs": [],
   "source": [
    "# we get different length sentences after tokenizer.\n",
    "# we need fixed size vectors. so padding is applied.\n",
    "# max length of a sentence was given above. it was 819.\n",
    "# here we are taking maxlen=256 and applying padding (256 selected for computational cost)\n",
    "x_train = pad_sequences(x_train, padding='post', maxlen=256)\n",
    "x_test = pad_sequences(x_test, padding='post', maxlen=256)"
   ]
  },
  {
   "cell_type": "code",
   "execution_count": 10,
   "metadata": {},
   "outputs": [
    {
     "data": {
      "text/plain": [
       "['negative', 'neutral', 'positive']"
      ]
     },
     "execution_count": 10,
     "metadata": {},
     "output_type": "execute_result"
    }
   ],
   "source": [
    "# label encoding: 'positive', 'negative' and 'neutral' is converted to number format.\n",
    "le = LabelEncoder()\n",
    "\n",
    "train_labels = le.fit_transform(y_train)\n",
    "train_labels = np.asarray( tf.keras.utils.to_categorical(train_labels))\n",
    "\n",
    "test_labels = le.transform(y_test)\n",
    "test_labels = np.asarray(tf.keras.utils.to_categorical(test_labels))\n",
    "list(le.classes_)"
   ]
  },
  {
   "cell_type": "code",
   "execution_count": 11,
   "metadata": {},
   "outputs": [],
   "source": [
    "# looking for top 10k comments\n",
    "max_features = 11168\n",
    "\n",
    "#every index is represented by 32 dimensional vector\n",
    "embedding_dim = 32\n",
    "\n",
    "#each input has 256 dimension\n",
    "sequence_length = 256\n",
    "\n",
    "model = tf.keras.Sequential()\n",
    "\n",
    "model.add(tf.keras.layers.Embedding(max_features, embedding_dim, input_length=sequence_length,\\\n",
    "                                   #embeddings_regularizer = regularizers.l2(0.0005)\n",
    "                                   )) \n",
    "\n",
    "model.add(tf.keras.layers.Flatten())\n",
    "model.add(tf.keras.layers.Dense(32, activation='relu'))\n",
    "model.add(tf.keras.layers.Dense(64, activation='relu'))\n",
    "model.add(tf.keras.layers.Dense(64, activation='relu'))\n",
    "model.add(tf.keras.layers.Dense(3, activation='softmax'))\n",
    "model.compile(loss='categorical_crossentropy', optimizer='adam', metrics=['accuracy', AUC(name='auc')])"
   ]
  },
  {
   "cell_type": "code",
   "execution_count": 12,
   "metadata": {},
   "outputs": [
    {
     "name": "stdout",
     "output_type": "stream",
     "text": [
      "Epoch 1/10\n",
      "245/245 [==============================] - 3s 9ms/step - loss: 0.9732 - accuracy: 0.5228 - auc: 0.6941 - val_loss: 0.8697 - val_accuracy: 0.5897 - val_auc: 0.7729\n",
      "Epoch 2/10\n",
      "245/245 [==============================] - 1s 5ms/step - loss: 0.6938 - accuracy: 0.6712 - auc: 0.8577 - val_loss: 0.6432 - val_accuracy: 0.7493 - val_auc: 0.8969\n",
      "Epoch 3/10\n",
      "245/245 [==============================] - 1s 5ms/step - loss: 0.1616 - accuracy: 0.9520 - auc: 0.9936 - val_loss: 0.8246 - val_accuracy: 0.7747 - val_auc: 0.9005\n",
      "Epoch 4/10\n",
      "245/245 [==============================] - 1s 5ms/step - loss: 0.0285 - accuracy: 0.9951 - auc: 0.9997 - val_loss: 0.9396 - val_accuracy: 0.7833 - val_auc: 0.9069\n",
      "Epoch 5/10\n",
      "245/245 [==============================] - 1s 5ms/step - loss: 0.0067 - accuracy: 0.9992 - auc: 0.9997 - val_loss: 1.1015 - val_accuracy: 0.7956 - val_auc: 0.9018\n"
     ]
    }
   ],
   "source": [
    "# Training model\n",
    "\n",
    "callbacks = [EarlyStopping(monitor='val_loss', patience=3)]\n",
    "\n",
    "# Fit the model using the train and test datasets.\n",
    "history = model.fit(x_train,\n",
    "                    train_labels,\n",
    "                    epochs= 10,\n",
    "                    callbacks=callbacks,\n",
    "                    validation_data=(x_test, test_labels),\n",
    "                    verbose=1)"
   ]
  },
  {
   "cell_type": "code",
   "execution_count": 13,
   "metadata": {},
   "outputs": [
    {
     "data": {
      "image/png": "[encoded data removed]",
      "text/plain": [
       "<Figure size 432x288 with 1 Axes>"
      ]
     },
     "metadata": {
      "needs_background": "light"
     },
     "output_type": "display_data"
    }
   ],
   "source": [
    "plt.plot(history.history['loss'], label=' training data')\n",
    "plt.plot(history.history['val_loss'], label='validation data)')\n",
    "plt.title('Loss for Text Classification')\n",
    "plt.ylabel('Loss value')\n",
    "plt.xlabel('No. epoch')\n",
    "plt.legend(loc=\"upper left\")\n",
    "plt.show()"
   ]
  },
  {
   "cell_type": "code",
   "execution_count": 14,
   "metadata": {},
   "outputs": [
    {
     "data": {
      "image/png": "[encoded data removed]",
      "text/plain": [
       "<Figure size 432x288 with 1 Axes>"
      ]
     },
     "metadata": {
      "needs_background": "light"
     },
     "output_type": "display_data"
    }
   ],
   "source": [
    "plt.plot(history.history['auc'], label=' Training AUC')\n",
    "plt.plot(history.history['val_auc'], label='Validation AUC)')\n",
    "plt.title('AUC Evaluation')\n",
    "plt.ylabel('AUC')\n",
    "plt.xlabel('No. epoch')\n",
    "plt.legend(loc=\"upper left\")\n",
    "plt.show()"
   ]
  },
  {
   "cell_type": "code",
   "execution_count": 15,
   "metadata": {},
   "outputs": [
    {
     "name": "stderr",
     "output_type": "stream",
     "text": [
      "<ipython-input-15-1bce84296b7e>:1: VisibleDeprecationWarning: Creating an ndarray from ragged nested sequences (which is a list-or-tuple of lists-or-tuples-or ndarrays with different lengths or shapes) is deprecated. If you meant to do this, you must specify 'dtype=object' when creating the ndarray\n",
      "  x_test2  = np.array( tokenizer.texts_to_sequences(X_test.astype(str).tolist()) )\n"
     ]
    }
   ],
   "source": [
    "x_test2  = np.array( tokenizer.texts_to_sequences(X_test.astype(str).tolist()) )\n",
    "x_test2 = pad_sequences(x_test2, padding='post', maxlen=256)"
   ]
  },
  {
   "cell_type": "code",
   "execution_count": 16,
   "metadata": {},
   "outputs": [
    {
     "name": "stdout",
     "output_type": "stream",
     "text": [
      "Generate predictions for all samples\n"
     ]
    },
    {
     "data": {
      "text/plain": [
       "array([2, 2, 2, ..., 2, 2, 0], dtype=int64)"
      ]
     },
     "execution_count": 16,
     "metadata": {},
     "output_type": "execute_result"
    }
   ],
   "source": [
    "# Generate predictions (probabilities -- the output of the last layer)\n",
    "# on test  data using `predict`\n",
    "print(\"Generate predictions for all samples\")\n",
    "y_predictions = model.predict(x_test2)\n",
    "y_pred = y_predictions.argmax(axis=1)\n",
    "y_pred"
   ]
  },
  {
   "cell_type": "code",
   "execution_count": 17,
   "metadata": {},
   "outputs": [],
   "source": [
    "y_pred = np.where((y_pred == 0),'negative', y_pred)\n",
    "y_pred = np.where((y_pred == '1'),'neutral', y_pred)\n",
    "y_pred = np.where((y_pred == '2'),'positive', y_pred)"
   ]
  },
  {
   "cell_type": "code",
   "execution_count": 18,
   "metadata": {},
   "outputs": [
    {
     "name": "stdout",
     "output_type": "stream",
     "text": [
      "              precision    recall  f1-score   support\n",
      "\n",
      "    negative       0.75      0.67      0.71       946\n",
      "     neutral       0.81      0.71      0.76       605\n",
      "    positive       0.81      0.89      0.85      1800\n",
      "\n",
      "    accuracy                           0.80      3351\n",
      "   macro avg       0.79      0.76      0.77      3351\n",
      "weighted avg       0.79      0.80      0.79      3351\n",
      "\n"
     ]
    }
   ],
   "source": [
    "labels = ['positive', 'negative','neutral']\n",
    "print(classification_report(y_test, y_pred))"
   ]
  },
  {
   "cell_type": "code",
   "execution_count": null,
   "metadata": {},
   "outputs": [],
   "source": []
  }
 ],
 "metadata": {
  "kernelspec": {
   "display_name": "Python 3",
   "language": "python",
   "name": "python3"
  },
  "language_info": {
   "codemirror_mode": {
    "name": "ipython",
    "version": 3
   },
   "file_extension": ".py",
   "mimetype": "text/x-python",
   "name": "python",
   "nbconvert_exporter": "python",
   "pygments_lexer": "ipython3",
   "version": "3.8.5"
  }
 },
 "nbformat": 4,
 "nbformat_minor": 4
}
