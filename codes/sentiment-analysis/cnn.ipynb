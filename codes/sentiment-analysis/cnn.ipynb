{
 "cells": [
  {
   "cell_type": "code",
   "execution_count": 1,
   "metadata": {},
   "outputs": [],
   "source": [
    "import pandas as pd\n",
    "import numpy as np\n",
    "\n",
    "import tensorflow as tf\n",
    "\n",
    "import matplotlib.pyplot as plt\n",
    "\n",
    "from tensorflow.keras import regularizers\n",
    "from tensorflow.keras import layers\n",
    "from tensorflow.keras import losses\n",
    "\n",
    "from tensorflow.keras.metrics import AUC\n",
    "\n",
    "from sklearn.feature_extraction.text import TfidfVectorizer\n",
    "from sklearn.model_selection import train_test_split\n",
    "from sklearn.preprocessing import LabelEncoder\n",
    "from sklearn.metrics import accuracy_score, f1_score, precision_score, recall_score, classification_report, confusion_matrix, matthews_corrcoef, roc_curve, auc, roc_auc_score\n",
    "\n",
    "from tensorflow.keras.preprocessing.text import Tokenizer\n",
    "from tensorflow.keras.preprocessing.sequence import pad_sequences"
   ]
  },
  {
   "cell_type": "code",
   "execution_count": 2,
   "metadata": {},
   "outputs": [],
   "source": [
    "train_data = pd.read_csv('../preprocessed_all_countries_combined_comments.csv')"
   ]
  },
  {
   "cell_type": "code",
   "execution_count": 3,
   "metadata": {},
   "outputs": [],
   "source": [
    "# calculate word count of each sentence\n",
    "train_data['word_counter'] = train_data['body'].apply(lambda x:len(str(x).split())) "
   ]
  },
  {
   "cell_type": "code",
   "execution_count": 4,
   "metadata": {},
   "outputs": [
    {
     "name": "stdout",
     "output_type": "stream",
     "text": [
      "Info about training data:\n",
      "positive    5961\n",
      "negative    3260\n",
      "neutral     1947\n",
      "Name: label, dtype: int64\n",
      "Total comments:  11168\n"
     ]
    }
   ],
   "source": [
    "print('Info about training data:')\n",
    "print(train_data['label'].value_counts())\n",
    "print('Total comments: ', len(train_data))\n",
    "\n",
    "# will be used in cnn\n",
    "max_train_sentence_length  = train_data['word_counter'].max()"
   ]
  },
  {
   "cell_type": "code",
   "execution_count": 5,
   "metadata": {},
   "outputs": [
    {
     "name": "stdout",
     "output_type": "stream",
     "text": [
      "Train Max Sentence Length :819\n"
     ]
    }
   ],
   "source": [
    "# will be used for padding\n",
    "print('Train Max Sentence Length :'+str(max_train_sentence_length))"
   ]
  },
  {
   "cell_type": "code",
   "execution_count": 6,
   "metadata": {},
   "outputs": [
    {
     "name": "stdout",
     "output_type": "stream",
     "text": [
      "[[1, 1, 1, 28]]\n"
     ]
    }
   ],
   "source": [
    "# consider 11k comments\n",
    "num_words = 5000\n",
    "\n",
    "# convert texts to number format - for tensorflow.\n",
    "\n",
    "tokenizer = Tokenizer(num_words=num_words,oov_token=\"unk\")\n",
    "tokenizer.fit_on_texts(train_data['body'].values.astype(str).tolist())\n",
    "\n",
    "print(str(tokenizer.texts_to_sequences(['this is a test'])))"
   ]
  },
  {
   "cell_type": "code",
   "execution_count": 7,
   "metadata": {},
   "outputs": [],
   "source": [
    "# splitting train and test data\n",
    "X_train, X_test, y_train, y_test = train_test_split(train_data['body'],\\\n",
    "                                                      train_data['label'],\\\n",
    "                                                      test_size=0.1,\\\n",
    "                                                      random_state=0)"
   ]
  },
  {
   "cell_type": "code",
   "execution_count": 8,
   "metadata": {},
   "outputs": [
    {
     "name": "stderr",
     "output_type": "stream",
     "text": [
      "<ipython-input-8-52717cdf9361>:2: VisibleDeprecationWarning: Creating an ndarray from ragged nested sequences (which is a list-or-tuple of lists-or-tuples-or ndarrays with different lengths or shapes) is deprecated. If you meant to do this, you must specify 'dtype=object' when creating the ndarray\n",
      "  x_train = np.array( tokenizer.texts_to_sequences(X_train.values.astype(str)) )\n",
      "<ipython-input-8-52717cdf9361>:3: VisibleDeprecationWarning: Creating an ndarray from ragged nested sequences (which is a list-or-tuple of lists-or-tuples-or ndarrays with different lengths or shapes) is deprecated. If you meant to do this, you must specify 'dtype=object' when creating the ndarray\n",
      "  x_test  = np.array( tokenizer.texts_to_sequences(X_test.values.astype(str)) )\n"
     ]
    }
   ],
   "source": [
    "# text-to-number\n",
    "x_train = np.array( tokenizer.texts_to_sequences(X_train.values.astype(str)) )\n",
    "x_test  = np.array( tokenizer.texts_to_sequences(X_test.values.astype(str)) )"
   ]
  },
  {
   "cell_type": "code",
   "execution_count": 9,
   "metadata": {},
   "outputs": [],
   "source": [
    "# we get different length sentences after tokenizer.\n",
    "# we need fixed size vectors. so padding is applied.\n",
    "# max length of a sentence was given above. it was 819.\n",
    "# here we are taking maxlen=256 and applying padding.\n",
    "x_train = pad_sequences(x_train, padding='post', maxlen=256)\n",
    "x_test = pad_sequences(x_test, padding='post', maxlen=256)"
   ]
  },
  {
   "cell_type": "code",
   "execution_count": 10,
   "metadata": {},
   "outputs": [
    {
     "data": {
      "text/plain": [
       "(10051, 256)"
      ]
     },
     "execution_count": 10,
     "metadata": {},
     "output_type": "execute_result"
    }
   ],
   "source": [
    "x_train.shape"
   ]
  },
  {
   "cell_type": "code",
   "execution_count": 11,
   "metadata": {},
   "outputs": [
    {
     "data": {
      "text/plain": [
       "['negative', 'neutral', 'positive']"
      ]
     },
     "execution_count": 11,
     "metadata": {},
     "output_type": "execute_result"
    }
   ],
   "source": [
    "# label encoding: 'positive', 'negative' and 'neutral' is converted to number format.\n",
    "le = LabelEncoder()\n",
    "\n",
    "train_labels = le.fit_transform(y_train)\n",
    "train_labels = np.asarray( tf.keras.utils.to_categorical(train_labels))\n",
    "\n",
    "test_labels = le.transform(y_test)\n",
    "test_labels = np.asarray(tf.keras.utils.to_categorical(test_labels))\n",
    "list(le.classes_)"
   ]
  },
  {
   "cell_type": "code",
   "execution_count": 12,
   "metadata": {},
   "outputs": [],
   "source": [
    "train_ds = tf.data.Dataset.from_tensor_slices((x_train,train_labels))\n",
    "test_ds = tf.data.Dataset.from_tensor_slices((x_test,test_labels))"
   ]
  },
  {
   "cell_type": "code",
   "execution_count": 13,
   "metadata": {},
   "outputs": [
    {
     "name": "stdout",
     "output_type": "stream",
     "text": [
      "9704     negative\n",
      "836      negative\n",
      "2701     positive\n",
      "8805     positive\n",
      "8506     negative\n",
      "6502     positive\n",
      "9204      neutral\n",
      "10006     neutral\n",
      "6053      neutral\n",
      "3245     positive\n",
      "Name: label, dtype: object\n",
      "Text to number\n",
      "[0 0 2 2 0 2 1 1 1 2]\n",
      "Number to category\n",
      "[[1. 0. 0.]\n",
      " [1. 0. 0.]\n",
      " [0. 0. 1.]\n",
      " [0. 0. 1.]\n",
      " [1. 0. 0.]\n",
      " [0. 0. 1.]\n",
      " [0. 1. 0.]\n",
      " [0. 1. 0.]\n",
      " [0. 1. 0.]\n",
      " [0. 0. 1.]]\n"
     ]
    }
   ],
   "source": [
    "# Details for label encoding process\n",
    "print(y_train[:10])\n",
    "train_labels = le.fit_transform(y_train)\n",
    "print('Text to number')\n",
    "print(train_labels[:10])\n",
    "train_labels = np.asarray( tf.keras.utils.to_categorical(train_labels))\n",
    "print('Number to category')\n",
    "print(train_labels[:10])"
   ]
  },
  {
   "cell_type": "code",
   "execution_count": 14,
   "metadata": {},
   "outputs": [
    {
     "name": "stdout",
     "output_type": "stream",
     "text": [
      "Model: \"sequential\"\n",
      "_________________________________________________________________\n",
      "Layer (type)                 Output Shape              Param #   \n",
      "=================================================================\n",
      "embedding (Embedding)        (None, 256, 64)           320000    \n",
      "_________________________________________________________________\n",
      "conv1d (Conv1D)              (None, 254, 128)          24704     \n",
      "_________________________________________________________________\n",
      "global_max_pooling1d (Global (None, 128)               0         \n",
      "_________________________________________________________________\n",
      "dense (Dense)                (None, 3)                 387       \n",
      "=================================================================\n",
      "Total params: 345,091\n",
      "Trainable params: 345,091\n",
      "Non-trainable params: 0\n",
      "_________________________________________________________________\n"
     ]
    }
   ],
   "source": [
    "\n",
    "# Creating Convolutional Neural Network Model\n",
    "\n",
    "# looking for top 30k comments\n",
    "max_features = 5000\n",
    "\n",
    "#every index is represented by 64 dimensional vector\n",
    "embedding_dim =64\n",
    "\n",
    "#each input has 256 dimension\n",
    "sequence_length = 256\n",
    "\n",
    "model = tf.keras.Sequential()\n",
    "\n",
    "# first layer is embedding layer.\n",
    "model.add(tf.keras.layers.Embedding(max_features, embedding_dim, input_length=sequence_length,\\\n",
    "                                    embeddings_regularizer = regularizers.l2(0.0005)))     \n",
    "\n",
    "# second is conv. layer.\n",
    "# 1-dimensional (not image)\n",
    "# kernel_size = 3, looking for 3 words at a time (total of 40).\n",
    "model.add(tf.keras.layers.Conv1D(128,3, activation='relu',\\\n",
    "                                 kernel_regularizer = regularizers.l2(0.0005),\\\n",
    "                                 bias_regularizer = regularizers.l2(0.0005))) \n",
    "\n",
    "# adding maxpooling after convolution layer.\n",
    "# feature map is reduced by half after max pooling.\n",
    "model.add(tf.keras.layers.GlobalMaxPooling1D())\n",
    "\n",
    "# final layer, fully connected dense layer.\n",
    "# 3 neurons for the output: possitive, negative and neutral.\n",
    "# regularizers prevents overfitting.\n",
    "model.add(tf.keras.layers.Dense(3, activation='softmax',\\\n",
    "                                kernel_regularizer=regularizers.l2(0.001),\\\n",
    "                                bias_regularizer=regularizers.l2(0.001),))\n",
    "                    \n",
    "model.summary()\n",
    "model.compile(loss=tf.keras.losses.CategoricalCrossentropy(from_logits=True), optimizer='Nadam', metrics=[\"CategoricalAccuracy\",  AUC(name='auc')])"
   ]
  },
  {
   "cell_type": "code",
   "execution_count": 15,
   "metadata": {},
   "outputs": [
    {
     "name": "stdout",
     "output_type": "stream",
     "text": [
      "Epoch 1/15\n",
      "315/315 [==============================] - 7s 18ms/step - loss: 0.9941 - categorical_accuracy: 0.5813 - auc: 0.7571 - val_loss: 0.5210 - val_categorical_accuracy: 0.8469 - val_auc: 0.9525\n",
      "Epoch 2/15\n",
      "315/315 [==============================] - 5s 15ms/step - loss: 0.4688 - categorical_accuracy: 0.8570 - auc: 0.9625 - val_loss: 0.4953 - val_categorical_accuracy: 0.8559 - val_auc: 0.9594\n",
      "Epoch 3/15\n",
      "315/315 [==============================] - 5s 16ms/step - loss: 0.3743 - categorical_accuracy: 0.9063 - auc: 0.9817 - val_loss: 0.4313 - val_categorical_accuracy: 0.8908 - val_auc: 0.9740\n",
      "Epoch 4/15\n",
      "315/315 [==============================] - 5s 15ms/step - loss: 0.3258 - categorical_accuracy: 0.9325 - auc: 0.9901 - val_loss: 0.4236 - val_categorical_accuracy: 0.8935 - val_auc: 0.9777\n",
      "Epoch 5/15\n",
      "315/315 [==============================] - 5s 16ms/step - loss: 0.2976 - categorical_accuracy: 0.9526 - auc: 0.9944 - val_loss: 0.4505 - val_categorical_accuracy: 0.8890 - val_auc: 0.9747\n",
      "Epoch 6/15\n",
      "315/315 [==============================] - 5s 15ms/step - loss: 0.2729 - categorical_accuracy: 0.9692 - auc: 0.9972 - val_loss: 0.4376 - val_categorical_accuracy: 0.8890 - val_auc: 0.9777\n",
      "Epoch 7/15\n",
      "315/315 [==============================] - 5s 17ms/step - loss: 0.2552 - categorical_accuracy: 0.9795 - auc: 0.9985 - val_loss: 0.4482 - val_categorical_accuracy: 0.8908 - val_auc: 0.9773\n",
      "Epoch 8/15\n",
      "315/315 [==============================] - 5s 16ms/step - loss: 0.2432 - categorical_accuracy: 0.9857 - auc: 0.9991 - val_loss: 0.4522 - val_categorical_accuracy: 0.8953 - val_auc: 0.9776\n",
      "Epoch 9/15\n",
      "315/315 [==============================] - 5s 15ms/step - loss: 0.2375 - categorical_accuracy: 0.9892 - auc: 0.9993 - val_loss: 0.4399 - val_categorical_accuracy: 0.8979 - val_auc: 0.9792\n",
      "Epoch 10/15\n",
      "315/315 [==============================] - 5s 16ms/step - loss: 0.2316 - categorical_accuracy: 0.9908 - auc: 0.9995 - val_loss: 0.4432 - val_categorical_accuracy: 0.8997 - val_auc: 0.9789\n",
      "Epoch 11/15\n",
      "315/315 [==============================] - 5s 15ms/step - loss: 0.2259 - categorical_accuracy: 0.9933 - auc: 0.9996 - val_loss: 0.4480 - val_categorical_accuracy: 0.8926 - val_auc: 0.9776\n",
      "Epoch 12/15\n",
      "315/315 [==============================] - 5s 16ms/step - loss: 0.2248 - categorical_accuracy: 0.9941 - auc: 0.9996 - val_loss: 0.4459 - val_categorical_accuracy: 0.8944 - val_auc: 0.9794loss: 0.2247 - categorical_accuracy: 0.9942 -\n",
      "Epoch 13/15\n",
      "315/315 [==============================] - 5s 17ms/step - loss: 0.2226 - categorical_accuracy: 0.9943 - auc: 0.9996 - val_loss: 0.4501 - val_categorical_accuracy: 0.8935 - val_auc: 0.9783\n",
      "Epoch 14/15\n",
      "315/315 [==============================] - 5s 15ms/step - loss: 0.2217 - categorical_accuracy: 0.9941 - auc: 0.9997 - val_loss: 0.4467 - val_categorical_accuracy: 0.9015 - val_auc: 0.9782\n",
      "Epoch 15/15\n",
      "315/315 [==============================] - 5s 15ms/step - loss: 0.2200 - categorical_accuracy: 0.9950 - auc: 0.9997 - val_loss: 0.4554 - val_categorical_accuracy: 0.8944 - val_auc: 0.9777\n"
     ]
    }
   ],
   "source": [
    "# Training model\n",
    "epochs = 15\n",
    "# Fit the model using the train and test datasets.\n",
    "#history = model.fit(x_train, train_labels,validation_data= (x_test,test_labels),epochs=epochs )\n",
    "history = model.fit(train_ds.shuffle(100).batch(32),\n",
    "                    epochs= epochs ,\n",
    "                    validation_data=test_ds.batch(32),\n",
    "                    verbose=1)"
   ]
  },
  {
   "cell_type": "code",
   "execution_count": 16,
   "metadata": {},
   "outputs": [
    {
     "data": {
      "image/png": "[encoded data removed]",
      "text/plain": [
       "<Figure size 432x288 with 1 Axes>"
      ]
     },
     "metadata": {
      "needs_background": "light"
     },
     "output_type": "display_data"
    }
   ],
   "source": [
    "plt.plot(history.history['loss'], label=' training data')\n",
    "plt.plot(history.history['val_loss'], label='validation data)')\n",
    "plt.title('Loss for Text Classification')\n",
    "plt.ylabel('Loss value')\n",
    "plt.xlabel('No. epoch')\n",
    "plt.legend(loc=\"upper left\")\n",
    "plt.show()"
   ]
  },
  {
   "cell_type": "code",
   "execution_count": 17,
   "metadata": {},
   "outputs": [
    {
     "name": "stdout",
     "output_type": "stream",
     "text": [
      "dict_keys(['loss', 'categorical_accuracy', 'auc', 'val_loss', 'val_categorical_accuracy', 'val_auc'])\n"
     ]
    }
   ],
   "source": [
    "print(history.history.keys())"
   ]
  },
  {
   "cell_type": "code",
   "execution_count": 18,
   "metadata": {},
   "outputs": [
    {
     "data": {
      "image/png": "[encoded data removed]",
      "text/plain": [
       "<Figure size 432x288 with 1 Axes>"
      ]
     },
     "metadata": {
      "needs_background": "light"
     },
     "output_type": "display_data"
    }
   ],
   "source": [
    "plt.plot(history.history['loss'], label=' training data')\n",
    "plt.plot(history.history['val_loss'], label='validation data)')\n",
    "plt.title('Loss for Text Classification')\n",
    "plt.ylabel('Loss value')\n",
    "plt.xlabel('No. epoch')\n",
    "plt.legend(loc=\"upper left\")\n",
    "plt.show()"
   ]
  },
  {
   "cell_type": "code",
   "execution_count": 19,
   "metadata": {},
   "outputs": [
    {
     "name": "stderr",
     "output_type": "stream",
     "text": [
      "<ipython-input-19-57839d92eddd>:1: VisibleDeprecationWarning: Creating an ndarray from ragged nested sequences (which is a list-or-tuple of lists-or-tuples-or ndarrays with different lengths or shapes) is deprecated. If you meant to do this, you must specify 'dtype=object' when creating the ndarray\n",
      "  x_test2  = np.array( tokenizer.texts_to_sequences(X_test.astype(str).tolist()) )\n"
     ]
    }
   ],
   "source": [
    "x_test2  = np.array( tokenizer.texts_to_sequences(X_test.astype(str).tolist()) )\n",
    "x_test2 = pad_sequences(x_test2, padding='post', maxlen=3263)"
   ]
  },
  {
   "cell_type": "code",
   "execution_count": 20,
   "metadata": {},
   "outputs": [
    {
     "name": "stdout",
     "output_type": "stream",
     "text": [
      "Generate predictions for all samples\n",
      "WARNING:tensorflow:Model was constructed with shape (None, 256) for input KerasTensor(type_spec=TensorSpec(shape=(None, 256), dtype=tf.float32, name='embedding_input'), name='embedding_input', description=\"created by layer 'embedding_input'\"), but it was called on an input with incompatible shape (None, 3263).\n"
     ]
    },
    {
     "data": {
      "text/plain": [
       "array([2, 2, 2, ..., 1, 0, 2], dtype=int64)"
      ]
     },
     "execution_count": 20,
     "metadata": {},
     "output_type": "execute_result"
    }
   ],
   "source": [
    "# Generate predictions (probabilities -- the output of the last layer)\n",
    "# on test  data using `predict`\n",
    "print(\"Generate predictions for all samples\")\n",
    "y_predictions = model.predict(x_test2)\n",
    "y_pred = y_predictions.argmax(axis=1)\n",
    "y_pred"
   ]
  },
  {
   "cell_type": "code",
   "execution_count": 21,
   "metadata": {},
   "outputs": [
    {
     "data": {
      "text/plain": [
       "9158     positive\n",
       "1751     positive\n",
       "11060    positive\n",
       "9756     negative\n",
       "9971     positive\n",
       "           ...   \n",
       "8450     positive\n",
       "8484     positive\n",
       "2431      neutral\n",
       "5844     negative\n",
       "7400     positive\n",
       "Name: label, Length: 1117, dtype: object"
      ]
     },
     "execution_count": 21,
     "metadata": {},
     "output_type": "execute_result"
    }
   ],
   "source": [
    "y_test.shape\n",
    "y_test"
   ]
  },
  {
   "cell_type": "code",
   "execution_count": 22,
   "metadata": {},
   "outputs": [],
   "source": [
    "y_pred = np.where((y_pred == 0),'negative',y_pred)\n",
    "y_pred = np.where((y_pred == '1'),'neutral',y_pred)\n",
    "y_pred = np.where((y_pred == '2'),'positive',y_pred)"
   ]
  },
  {
   "cell_type": "code",
   "execution_count": 23,
   "metadata": {},
   "outputs": [
    {
     "name": "stdout",
     "output_type": "stream",
     "text": [
      "              precision    recall  f1-score   support\n",
      "\n",
      "    positive       0.91      0.92      0.91       600\n",
      "    negative       0.87      0.82      0.85       320\n",
      "     neutral       0.87      0.95      0.91       197\n",
      "\n",
      "    accuracy                           0.89      1117\n",
      "   macro avg       0.89      0.89      0.89      1117\n",
      "weighted avg       0.89      0.89      0.89      1117\n",
      "\n"
     ]
    }
   ],
   "source": [
    "labels = ['positive', 'negative','neutral']\n",
    "print(classification_report(y_test, y_pred, labels=labels))"
   ]
  },
  {
   "cell_type": "code",
   "execution_count": null,
   "metadata": {},
   "outputs": [],
   "source": []
  }
 ],
 "metadata": {
  "kernelspec": {
   "display_name": "Python 3",
   "language": "python",
   "name": "python3"
  },
  "language_info": {
   "codemirror_mode": {
    "name": "ipython",
    "version": 3
   },
   "file_extension": ".py",
   "mimetype": "text/x-python",
   "name": "python",
   "nbconvert_exporter": "python",
   "pygments_lexer": "ipython3",
   "version": "3.8.5"
  }
 },
 "nbformat": 4,
 "nbformat_minor": 4
}
